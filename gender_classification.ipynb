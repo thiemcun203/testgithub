{
  "nbformat": 4,
  "nbformat_minor": 0,
  "metadata": {
    "colab": {
      "provenance": [],
      "include_colab_link": true
    },
    "kernelspec": {
      "name": "python3",
      "display_name": "Python 3"
    },
    "language_info": {
      "name": "python"
    }
  },
  "cells": [
    {
      "cell_type": "markdown",
      "metadata": {
        "id": "view-in-github",
        "colab_type": "text"
      },
      "source": [
        "<a href=\"https://colab.research.google.com/github/thiemcun203/testgithub/blob/main/gender_classification.ipynb\" target=\"_parent\"><img src=\"https://colab.research.google.com/assets/colab-badge.svg\" alt=\"Open In Colab\"/></a>"
      ]
    },
    {
      "cell_type": "code",
      "execution_count": 1,
      "metadata": {
        "colab": {
          "base_uri": "https://localhost:8080/",
          "height": 338
        },
        "id": "bO0YJmFxFKJz",
        "outputId": "f3ee4405-78c6-48d4-eea6-19dc12512066"
      },
      "outputs": [
        {
          "output_type": "error",
          "ename": "KeyboardInterrupt",
          "evalue": "ignored",
          "traceback": [
            "\u001b[0;31m---------------------------------------------------------------------------\u001b[0m",
            "\u001b[0;31mKeyboardInterrupt\u001b[0m                         Traceback (most recent call last)",
            "\u001b[0;32m<ipython-input-1-a145c0899d7d>\u001b[0m in \u001b[0;36m<cell line: 2>\u001b[0;34m()\u001b[0m\n\u001b[1;32m      1\u001b[0m \u001b[0;32mfrom\u001b[0m \u001b[0mgoogle\u001b[0m\u001b[0;34m.\u001b[0m\u001b[0mcolab\u001b[0m \u001b[0;32mimport\u001b[0m \u001b[0mdrive\u001b[0m\u001b[0;34m\u001b[0m\u001b[0;34m\u001b[0m\u001b[0m\n\u001b[0;32m----> 2\u001b[0;31m \u001b[0mdrive\u001b[0m\u001b[0;34m.\u001b[0m\u001b[0mmount\u001b[0m\u001b[0;34m(\u001b[0m\u001b[0;34m'/content/drive'\u001b[0m\u001b[0;34m,\u001b[0m \u001b[0mforce_remount\u001b[0m\u001b[0;34m=\u001b[0m\u001b[0;32mTrue\u001b[0m\u001b[0;34m)\u001b[0m\u001b[0;34m\u001b[0m\u001b[0;34m\u001b[0m\u001b[0m\n\u001b[0m",
            "\u001b[0;32m/usr/local/lib/python3.10/dist-packages/google/colab/drive.py\u001b[0m in \u001b[0;36mmount\u001b[0;34m(mountpoint, force_remount, timeout_ms, readonly)\u001b[0m\n\u001b[1;32m    101\u001b[0m \u001b[0;32mdef\u001b[0m \u001b[0mmount\u001b[0m\u001b[0;34m(\u001b[0m\u001b[0mmountpoint\u001b[0m\u001b[0;34m,\u001b[0m \u001b[0mforce_remount\u001b[0m\u001b[0;34m=\u001b[0m\u001b[0;32mFalse\u001b[0m\u001b[0;34m,\u001b[0m \u001b[0mtimeout_ms\u001b[0m\u001b[0;34m=\u001b[0m\u001b[0;36m120000\u001b[0m\u001b[0;34m,\u001b[0m \u001b[0mreadonly\u001b[0m\u001b[0;34m=\u001b[0m\u001b[0;32mFalse\u001b[0m\u001b[0;34m)\u001b[0m\u001b[0;34m:\u001b[0m\u001b[0;34m\u001b[0m\u001b[0;34m\u001b[0m\u001b[0m\n\u001b[1;32m    102\u001b[0m   \u001b[0;34m\"\"\"Mount your Google Drive at the specified mountpoint path.\"\"\"\u001b[0m\u001b[0;34m\u001b[0m\u001b[0;34m\u001b[0m\u001b[0m\n\u001b[0;32m--> 103\u001b[0;31m   return _mount(\n\u001b[0m\u001b[1;32m    104\u001b[0m       \u001b[0mmountpoint\u001b[0m\u001b[0;34m,\u001b[0m\u001b[0;34m\u001b[0m\u001b[0;34m\u001b[0m\u001b[0m\n\u001b[1;32m    105\u001b[0m       \u001b[0mforce_remount\u001b[0m\u001b[0;34m=\u001b[0m\u001b[0mforce_remount\u001b[0m\u001b[0;34m,\u001b[0m\u001b[0;34m\u001b[0m\u001b[0;34m\u001b[0m\u001b[0m\n",
            "\u001b[0;32m/usr/local/lib/python3.10/dist-packages/google/colab/drive.py\u001b[0m in \u001b[0;36m_mount\u001b[0;34m(mountpoint, force_remount, timeout_ms, ephemeral, readonly)\u001b[0m\n\u001b[1;32m    130\u001b[0m   )\n\u001b[1;32m    131\u001b[0m   \u001b[0;32mif\u001b[0m \u001b[0mephemeral\u001b[0m\u001b[0;34m:\u001b[0m\u001b[0;34m\u001b[0m\u001b[0;34m\u001b[0m\u001b[0m\n\u001b[0;32m--> 132\u001b[0;31m     _message.blocking_request(\n\u001b[0m\u001b[1;32m    133\u001b[0m         \u001b[0;34m'request_auth'\u001b[0m\u001b[0;34m,\u001b[0m \u001b[0mrequest\u001b[0m\u001b[0;34m=\u001b[0m\u001b[0;34m{\u001b[0m\u001b[0;34m'authType'\u001b[0m\u001b[0;34m:\u001b[0m \u001b[0;34m'dfs_ephemeral'\u001b[0m\u001b[0;34m}\u001b[0m\u001b[0;34m,\u001b[0m \u001b[0mtimeout_sec\u001b[0m\u001b[0;34m=\u001b[0m\u001b[0;32mNone\u001b[0m\u001b[0;34m\u001b[0m\u001b[0;34m\u001b[0m\u001b[0m\n\u001b[1;32m    134\u001b[0m     )\n",
            "\u001b[0;32m/usr/local/lib/python3.10/dist-packages/google/colab/_message.py\u001b[0m in \u001b[0;36mblocking_request\u001b[0;34m(request_type, request, timeout_sec, parent)\u001b[0m\n\u001b[1;32m    174\u001b[0m       \u001b[0mrequest_type\u001b[0m\u001b[0;34m,\u001b[0m \u001b[0mrequest\u001b[0m\u001b[0;34m,\u001b[0m \u001b[0mparent\u001b[0m\u001b[0;34m=\u001b[0m\u001b[0mparent\u001b[0m\u001b[0;34m,\u001b[0m \u001b[0mexpect_reply\u001b[0m\u001b[0;34m=\u001b[0m\u001b[0;32mTrue\u001b[0m\u001b[0;34m\u001b[0m\u001b[0;34m\u001b[0m\u001b[0m\n\u001b[1;32m    175\u001b[0m   )\n\u001b[0;32m--> 176\u001b[0;31m   \u001b[0;32mreturn\u001b[0m \u001b[0mread_reply_from_input\u001b[0m\u001b[0;34m(\u001b[0m\u001b[0mrequest_id\u001b[0m\u001b[0;34m,\u001b[0m \u001b[0mtimeout_sec\u001b[0m\u001b[0;34m)\u001b[0m\u001b[0;34m\u001b[0m\u001b[0;34m\u001b[0m\u001b[0m\n\u001b[0m",
            "\u001b[0;32m/usr/local/lib/python3.10/dist-packages/google/colab/_message.py\u001b[0m in \u001b[0;36mread_reply_from_input\u001b[0;34m(message_id, timeout_sec)\u001b[0m\n\u001b[1;32m     94\u001b[0m     \u001b[0mreply\u001b[0m \u001b[0;34m=\u001b[0m \u001b[0m_read_next_input_message\u001b[0m\u001b[0;34m(\u001b[0m\u001b[0;34m)\u001b[0m\u001b[0;34m\u001b[0m\u001b[0;34m\u001b[0m\u001b[0m\n\u001b[1;32m     95\u001b[0m     \u001b[0;32mif\u001b[0m \u001b[0mreply\u001b[0m \u001b[0;34m==\u001b[0m \u001b[0m_NOT_READY\u001b[0m \u001b[0;32mor\u001b[0m \u001b[0;32mnot\u001b[0m \u001b[0misinstance\u001b[0m\u001b[0;34m(\u001b[0m\u001b[0mreply\u001b[0m\u001b[0;34m,\u001b[0m \u001b[0mdict\u001b[0m\u001b[0;34m)\u001b[0m\u001b[0;34m:\u001b[0m\u001b[0;34m\u001b[0m\u001b[0;34m\u001b[0m\u001b[0m\n\u001b[0;32m---> 96\u001b[0;31m       \u001b[0mtime\u001b[0m\u001b[0;34m.\u001b[0m\u001b[0msleep\u001b[0m\u001b[0;34m(\u001b[0m\u001b[0;36m0.025\u001b[0m\u001b[0;34m)\u001b[0m\u001b[0;34m\u001b[0m\u001b[0;34m\u001b[0m\u001b[0m\n\u001b[0m\u001b[1;32m     97\u001b[0m       \u001b[0;32mcontinue\u001b[0m\u001b[0;34m\u001b[0m\u001b[0;34m\u001b[0m\u001b[0m\n\u001b[1;32m     98\u001b[0m     if (\n",
            "\u001b[0;31mKeyboardInterrupt\u001b[0m: "
          ]
        }
      ],
      "source": [
        "from google.colab import drive\n",
        "drive.mount('/content/drive', force_remount=True)"
      ]
    },
    {
      "cell_type": "code",
      "source": [
        "import pandas as pd\n",
        "import numpy as np\n",
        "\n",
        "import re\n",
        "import sys"
      ],
      "metadata": {
        "id": "NroXWry-FUh2"
      },
      "execution_count": null,
      "outputs": []
    },
    {
      "cell_type": "code",
      "source": [
        "parent_path = \"/content/drive/MyDrive/Gender prediction by Vietnamese name/dataset\"\n",
        "training_path = parent_path + \"/name_train.csv\"\n",
        "dev_path = parent_path + \"/name_dev.csv\"\n",
        "test_path = parent_path + \"/name_test.csv\"\n",
        "data_path = parent_path + \"/name_full.csv\"\n",
        "df = pd.read_csv(data_path)"
      ],
      "metadata": {
        "id": "NgNUC7-0FW2z"
      },
      "execution_count": null,
      "outputs": []
    },
    {
      "cell_type": "code",
      "source": [
        "df.head()"
      ],
      "metadata": {
        "colab": {
          "base_uri": "https://localhost:8080/",
          "height": 204
        },
        "id": "95suSWcSFpGx",
        "outputId": "b8fe1abf-f5fa-47d7-d626-83fa9c6e192d"
      },
      "execution_count": null,
      "outputs": [
        {
          "output_type": "execute_result",
          "data": {
            "text/plain": [
              "           Full_Name  Gender\n",
              "0      Ngô Xuân Tùng       1\n",
              "1  Bùi Dương Thảo Vy       0\n",
              "2        Lưu Thế Huy       1\n",
              "3     Nguyễn Thị Vân       0\n",
              "4    Dương Minh Long       1"
            ],
            "text/html": [
              "\n",
              "  <div id=\"df-ae3e3123-42ad-45e8-879b-6b36c2bf8fe4\">\n",
              "    <div class=\"colab-df-container\">\n",
              "      <div>\n",
              "<style scoped>\n",
              "    .dataframe tbody tr th:only-of-type {\n",
              "        vertical-align: middle;\n",
              "    }\n",
              "\n",
              "    .dataframe tbody tr th {\n",
              "        vertical-align: top;\n",
              "    }\n",
              "\n",
              "    .dataframe thead th {\n",
              "        text-align: right;\n",
              "    }\n",
              "</style>\n",
              "<table border=\"1\" class=\"dataframe\">\n",
              "  <thead>\n",
              "    <tr style=\"text-align: right;\">\n",
              "      <th></th>\n",
              "      <th>Full_Name</th>\n",
              "      <th>Gender</th>\n",
              "    </tr>\n",
              "  </thead>\n",
              "  <tbody>\n",
              "    <tr>\n",
              "      <th>0</th>\n",
              "      <td>Ngô Xuân Tùng</td>\n",
              "      <td>1</td>\n",
              "    </tr>\n",
              "    <tr>\n",
              "      <th>1</th>\n",
              "      <td>Bùi Dương Thảo Vy</td>\n",
              "      <td>0</td>\n",
              "    </tr>\n",
              "    <tr>\n",
              "      <th>2</th>\n",
              "      <td>Lưu Thế Huy</td>\n",
              "      <td>1</td>\n",
              "    </tr>\n",
              "    <tr>\n",
              "      <th>3</th>\n",
              "      <td>Nguyễn Thị Vân</td>\n",
              "      <td>0</td>\n",
              "    </tr>\n",
              "    <tr>\n",
              "      <th>4</th>\n",
              "      <td>Dương Minh Long</td>\n",
              "      <td>1</td>\n",
              "    </tr>\n",
              "  </tbody>\n",
              "</table>\n",
              "</div>\n",
              "      <button class=\"colab-df-convert\" onclick=\"convertToInteractive('df-ae3e3123-42ad-45e8-879b-6b36c2bf8fe4')\"\n",
              "              title=\"Convert this dataframe to an interactive table.\"\n",
              "              style=\"display:none;\">\n",
              "        \n",
              "  <svg xmlns=\"http://www.w3.org/2000/svg\" height=\"24px\"viewBox=\"0 0 24 24\"\n",
              "       width=\"24px\">\n",
              "    <path d=\"M0 0h24v24H0V0z\" fill=\"none\"/>\n",
              "    <path d=\"M18.56 5.44l.94 2.06.94-2.06 2.06-.94-2.06-.94-.94-2.06-.94 2.06-2.06.94zm-11 1L8.5 8.5l.94-2.06 2.06-.94-2.06-.94L8.5 2.5l-.94 2.06-2.06.94zm10 10l.94 2.06.94-2.06 2.06-.94-2.06-.94-.94-2.06-.94 2.06-2.06.94z\"/><path d=\"M17.41 7.96l-1.37-1.37c-.4-.4-.92-.59-1.43-.59-.52 0-1.04.2-1.43.59L10.3 9.45l-7.72 7.72c-.78.78-.78 2.05 0 2.83L4 21.41c.39.39.9.59 1.41.59.51 0 1.02-.2 1.41-.59l7.78-7.78 2.81-2.81c.8-.78.8-2.07 0-2.86zM5.41 20L4 18.59l7.72-7.72 1.47 1.35L5.41 20z\"/>\n",
              "  </svg>\n",
              "      </button>\n",
              "      \n",
              "  <style>\n",
              "    .colab-df-container {\n",
              "      display:flex;\n",
              "      flex-wrap:wrap;\n",
              "      gap: 12px;\n",
              "    }\n",
              "\n",
              "    .colab-df-convert {\n",
              "      background-color: #E8F0FE;\n",
              "      border: none;\n",
              "      border-radius: 50%;\n",
              "      cursor: pointer;\n",
              "      display: none;\n",
              "      fill: #1967D2;\n",
              "      height: 32px;\n",
              "      padding: 0 0 0 0;\n",
              "      width: 32px;\n",
              "    }\n",
              "\n",
              "    .colab-df-convert:hover {\n",
              "      background-color: #E2EBFA;\n",
              "      box-shadow: 0px 1px 2px rgba(60, 64, 67, 0.3), 0px 1px 3px 1px rgba(60, 64, 67, 0.15);\n",
              "      fill: #174EA6;\n",
              "    }\n",
              "\n",
              "    [theme=dark] .colab-df-convert {\n",
              "      background-color: #3B4455;\n",
              "      fill: #D2E3FC;\n",
              "    }\n",
              "\n",
              "    [theme=dark] .colab-df-convert:hover {\n",
              "      background-color: #434B5C;\n",
              "      box-shadow: 0px 1px 3px 1px rgba(0, 0, 0, 0.15);\n",
              "      filter: drop-shadow(0px 1px 2px rgba(0, 0, 0, 0.3));\n",
              "      fill: #FFFFFF;\n",
              "    }\n",
              "  </style>\n",
              "\n",
              "      <script>\n",
              "        const buttonEl =\n",
              "          document.querySelector('#df-ae3e3123-42ad-45e8-879b-6b36c2bf8fe4 button.colab-df-convert');\n",
              "        buttonEl.style.display =\n",
              "          google.colab.kernel.accessAllowed ? 'block' : 'none';\n",
              "\n",
              "        async function convertToInteractive(key) {\n",
              "          const element = document.querySelector('#df-ae3e3123-42ad-45e8-879b-6b36c2bf8fe4');\n",
              "          const dataTable =\n",
              "            await google.colab.kernel.invokeFunction('convertToInteractive',\n",
              "                                                     [key], {});\n",
              "          if (!dataTable) return;\n",
              "\n",
              "          const docLinkHtml = 'Like what you see? Visit the ' +\n",
              "            '<a target=\"_blank\" href=https://colab.research.google.com/notebooks/data_table.ipynb>data table notebook</a>'\n",
              "            + ' to learn more about interactive tables.';\n",
              "          element.innerHTML = '';\n",
              "          dataTable['output_type'] = 'display_data';\n",
              "          await google.colab.output.renderOutput(dataTable, element);\n",
              "          const docLink = document.createElement('div');\n",
              "          docLink.innerHTML = docLinkHtml;\n",
              "          element.appendChild(docLink);\n",
              "        }\n",
              "      </script>\n",
              "    </div>\n",
              "  </div>\n",
              "  "
            ]
          },
          "metadata": {},
          "execution_count": 4
        }
      ]
    },
    {
      "cell_type": "code",
      "source": [
        "def convert(text):\n",
        "  patterns = {\n",
        "  '[àáảãạăắằẵặẳâầấậẫẩ]': 'a',\n",
        "  '[đ]': 'd',\n",
        "  '[èéẻẽẹêềếểễệ]': 'e',\n",
        "  '[ìíỉĩị]': 'i',\n",
        "  '[òóỏõọôồốổỗộơờớởỡợ]': 'o',\n",
        "  '[ùúủũụưừứửữự]': 'u',\n",
        "  '[ỳýỷỹỵ]': 'y'\n",
        "  }\n",
        "  output = text\n",
        "  for regex, replace in patterns.items():\n",
        "    output = re.sub(regex, replace, output)\n",
        "    # deal with upper case\n",
        "    output = re.sub(regex.upper(), replace.upper(), output)\n",
        "  return output.lower()"
      ],
      "metadata": {
        "id": "wz-X2lYQGQ07"
      },
      "execution_count": null,
      "outputs": []
    },
    {
      "cell_type": "code",
      "source": [
        "full_data = df[\"Full_Name\"]"
      ],
      "metadata": {
        "id": "m30qmL0obz2j"
      },
      "execution_count": null,
      "outputs": []
    },
    {
      "cell_type": "code",
      "source": [
        "class Compute_TF_IDF():\n",
        "  def __init__(self, list_document, dictionary=None, max_count=None, min_count=10, normalize_tf=False, smooth=True, normalize_tfidf=None):\n",
        "    self.list_document = list_document\n",
        "    self.max_count = max_count\n",
        "    self.min_count = min_count\n",
        "    self.normalize_tf = normalize_tf\n",
        "    self.smooth = smooth\n",
        "    self.normalize_tfidf = normalize_tfidf\n",
        "\n",
        "    self.dictionary = dictionary if dictionary != None else self.create_dictionary()\n",
        "    self.word_to_index = self.mapping_word_to_index()\n",
        "    self.num_word = len(self.dictionary)\n",
        "    self.num_document = len(self.list_document)\n",
        "    self.matrix_word_count = self.create_count_matrix()\n",
        "    self.idf_score = self.compute_idf()\n",
        "  \n",
        "  # Query word given index based on dictionary\n",
        "  def retrieve_word(self, index)i:\n",
        "    if 0 <= index <= self.num_word - 1:\n",
        "      return self.dictionary[index]\n",
        "    else:\n",
        "      return -1\n",
        "  \n",
        "  # Query index given word based on dictionary\n",
        "  def retrieve_index(self, word):\n",
        "    return self.word_to_index.get(word.lower(), -1)\n",
        "\n",
        "  # Split document into list of words\n",
        "  def word_extraction(self, document):\n",
        "    split_word = document.split()\n",
        "    return split_word\n",
        "\n",
        "  def map_word_to_count(self):\n",
        "    dict_word_count = dict()\n",
        "    for i in range(len(self.list_document)):\n",
        "      list_word = self.word_extraction(self.list_document[i].lower())\n",
        "      for j in range(len(list_word)):\n",
        "        dict_word_count[list_word[j]] = dict_word_count.get(list_word[j], 0) + 1\n",
        "    return dict_word_count\n",
        "\n",
        "  def create_dictionary(self):\n",
        "    if self.max_count == None and self.min_count == None:\n",
        "      set_word = set()\n",
        "      for document in self.list_document:\n",
        "        set_word = set_word.union(set(self.word_extraction(document.lower())))\n",
        "    else:\n",
        "      set_word = set()\n",
        "      mapping_word_count = self.map_word_to_count()\n",
        "      for document in self.list_document:\n",
        "        list_word = self.word_extraction(document.lower())\n",
        "        for word in list_word:\n",
        "          if self.min_count != None:\n",
        "            if mapping_word_count[word] < self.min_count:\n",
        "              continue\n",
        "          if self.max_count != None:\n",
        "            if mapping_word_count[word] > self.max_count:\n",
        "              continue\n",
        "          set_word.add(word)\n",
        "    return sorted(list(set_word))\n",
        "\n",
        "  def mapping_word_to_index(self):\n",
        "    dict_encode = dict()\n",
        "    for i in range(len(self.dictionary)):\n",
        "      dict_encode[self.dictionary[i]] = i\n",
        "    return dict_encode\n",
        "\n",
        "  def create_count_matrix(self):\n",
        "    mat = np.zeros((self.num_document, self.num_word))\n",
        "    for i in range(len(self.list_document)):\n",
        "      document = self.list_document[i].lower()\n",
        "      list_word = self.word_extraction(document)\n",
        "      for j in range(len(list_word)):\n",
        "        ind = self.retrieve_index(list_word[j])\n",
        "        mat[i, ind] += 1\n",
        "    return mat\n",
        "\n",
        "  def compute_tf(self):\n",
        "    length_name = np.sum(self.matrix_word_count, axis=1)\n",
        "    if self.normalize_tf == True:\n",
        "      return self.matrix_word_count / np.reshape(length_name, (-1,1))\n",
        "    else:\n",
        "      return self.matrix_word_count\n",
        "\n",
        "  def compute_idf(self):\n",
        "    tmp = np.copy(self.matrix_word_count)\n",
        "    tmp[tmp!=0] = 1\n",
        "    num_doc_having_word = np.sum(tmp, axis=0)\n",
        "    if self.smooth == True:\n",
        "      # smoothen and avoid 0 in idf\n",
        "      num_doc_having_word = np.log((self.num_document + 1) / (num_doc_having_word + 1)) + 1\n",
        "    else:\n",
        "      # avoid 0 in idf\n",
        "      num_doc_having_word = np.log(self.num_document / num_doc_having_word) + 1\n",
        "    return np.reshape(num_doc_having_word, (1, self.num_word))\n",
        "\n",
        "  def compute_tf_idf(self):\n",
        "    tf = self.compute_tf()\n",
        "    idf = self.compute_idf()\n",
        "    tfidf = tf * idf\n",
        "    if self.normalize_tfidf == None:\n",
        "      return tfidf\n",
        "    elif self.normalize_tfidf == \"l2\":\n",
        "      sum_squares = np.reshape(np.diag(tfidf.dot(tfidf)), (1,-1))\n",
        "      return tfidf / sum_squares\n",
        "    elif self.normalize_tfidf == \"l1\":\n",
        "      sum_row = np.reshape(np.sum(tfidf, axis=1), (1,-1))\n",
        "      return tfidf / sum_row\n",
        "\n",
        "\n",
        "### Compute tf idf for test set\n",
        "  def create_count_matrix_for_test(self, list_doc):\n",
        "    mat = np.zeros((len(list_doc), self.num_word))\n",
        "    for i in range(len(list_doc)):\n",
        "      document = list_doc[i].lower()\n",
        "      list_word = self.word_extraction(document)\n",
        "      for j in range(len(list_word)):\n",
        "        ind = self.retrieve_index(list_word[j])\n",
        "        if ind != -1:\n",
        "          mat[i, ind] += 1\n",
        "    return mat\n",
        "  \n",
        "  def compute_tf_for_test(self, matrix_count_document):\n",
        "    length_name = np.sum(matrix_count_document, axis=1)\n",
        "    if self.normalize_tf == True:\n",
        "      return matrix_count_document / np.reshape(length_name, (-1,1))\n",
        "    else:\n",
        "      return matrix_count_document\n",
        "\n",
        "  def compute_tf_idf_for_test(self, document):\n",
        "    matrix = self.create_count_matrix_for_test(document)\n",
        "    tf = self.compute_tf_for_test(matrix)\n",
        "    idf = self.idf_score\n",
        "    tfidf = tf * idf\n",
        "    if self.normalize_tfidf == None:\n",
        "      return tfidf\n",
        "    elif self.normalize_tfidf == \"l2\":\n",
        "      sum_squares = np.reshape(np.diag(tfidf.dot(tfidf)), (1,-1))\n",
        "      return tfidf / sum_squares\n",
        "    elif self.normalize_tfidf == \"l1\":\n",
        "      sum_row = np.reshape(np.sum(tfidf, axis=1), (1,-1))\n",
        "      return tfidf / sum_row"
      ],
      "metadata": {
        "id": "blCPt6uhkk4H"
      },
      "execution_count": null,
      "outputs": []
    },
    {
      "cell_type": "code",
      "source": [
        "sample_data = [\"Nguyen THi Minh KHaI\", \"Le Dai ThANH\", \"Hello\"]"
      ],
      "metadata": {
        "id": "f6YtZH_FrLZx"
      },
      "execution_count": null,
      "outputs": []
    },
    {
      "cell_type": "code",
      "source": [
        "TF_IDF = Compute_TF_IDF(full_data)\n",
        "\n",
        "tf_idf_matrix = TF_IDF.compute_tf_idf()\n",
        "print(TF_IDF.dictionary)\n",
        "print(TF_IDF.compute_tf_idf_for_test([\"Phạm Quang Tùng\"]).shape)"
      ],
      "metadata": {
        "id": "iPMSuzslYAgM",
        "colab": {
          "base_uri": "https://localhost:8080/"
        },
        "outputId": "1486a8df-dabe-43ec-b64c-cd8fd1b43b07"
      },
      "execution_count": null,
      "outputs": [
        {
          "output_type": "stream",
          "name": "stdout",
          "text": [
            "['an', 'anh', 'bá', 'bách', 'bé', 'bình', 'bích', 'bùi', 'băng', 'bạch', 'bảo', 'bắc', 'bằng', 'bửu', 'cao', 'chau', 'chi', 'chinh', 'chiến', 'chu', 'chung', 'chánh', 'châu', 'chí', 'chính', 'chương', 'chấn', 'chế', 'cáp', 'cát', 'công', 'cúc', 'cương', 'cường', 'cảnh', 'cẩm', 'danh', 'di', 'diểm', 'diễm', 'diệp', 'diệu', 'doãn', 'du', 'dung', 'duy', 'duyên', 'dân', 'dũng', 'dư', 'dương', 'gia', 'giang', 'giao', 'giàu', 'h', 'hiếu', 'hiền', 'hiển', 'hiệp', 'hiệu', 'hoa', 'hoan', 'hoà', 'hoài', 'hoàn', 'hoàng', 'huy', 'huynh', 'huyền', 'huân', 'huấn', 'huế', 'huệ', 'huỳnh', 'hy', 'hà', 'hào', 'hân', 'hòa', 'hùng', 'hưng', 'hương', 'hướng', 'hường', 'hạ', 'hạnh', 'hải', 'hảo', 'hậu', 'hằng', 'học', 'hồ', 'hồng', 'hội', 'hợp', 'hứa', 'hửu', 'hữu', 'k', 'ka', 'kha', 'khang', 'khanh', 'khiêm', 'khoa', 'khuê', 'khánh', 'khôi', 'khương', 'khả', 'khải', 'khắc', 'kim', 'kiên', 'kiều', 'kiệt', 'kỳ', 'la', 'lai', 'lam', 'lan', 'linh', 'liêm', 'liên', 'liễu', 'loan', 'long', 'luân', 'luận', 'luật', 'ly', 'lài', 'lành', 'lâm', 'lân', 'lã', 'lê', 'lý', 'lăng', 'lư', 'lưu', 'lương', 'lượng', 'lại', 'lệ', 'lộc', 'lợi', 'lục', 'lữ', 'lực', 'mai', 'mi', 'minh', 'my', 'mã', 'mạnh', 'mẫn', 'mậu', 'mến', 'mộng', 'mỹ', 'na', 'nam', 'nay', 'ng', 'nga', 'nghi', 'nghiêm', 'nghĩa', 'nghị', 'ngoan', 'nguyê', 'nguyên', 'nguyễn', 'nguyệt', 'ngà', 'ngân', 'ngô', 'ngọc', 'nh', 'nhi', 'nhiên', 'nhu', 'nhung', 'nhàn', 'nhân', 'nhã', 'nhơn', 'như', 'nhất', 'nhật', 'nhớ', 'nhựt', 'ninh', 'nông', 'nương', 'nữ', 'oanh', 'pha', 'phan', 'phi', 'phong', 'pháp', 'phát', 'phùng', 'phú', 'phúc', 'phương', 'phước', 'phượng', 'phạm', 'phạmvăn', 'phấn', 'phụng', 'quan', 'quang', 'quy', 'quyên', 'quyết', 'quyền', 'quách', 'quân', 'quí', 'quý', 'quảng', 'quế', 'quốc', 'quỳnh', 'sa', 'sang', 'sanh', 'sen', 'sinh', 'song', 'sáng', 'sĩ', 'sơn', 'sương', 'sỹ', 'thanh', 'thao', 'thi', 'thiên', 'thiều', 'thiện', 'thoa', 'thoại', 'thu', 'thuý', 'thuận', 'thuỳ', 'thy', 'thành', 'thái', 'thân', 'thông', 'thùy', 'thúy', 'thơ', 'thơm', 'thư', 'thương', 'thường', 'thạch', 'thạnh', 'thảo', 'thẩm', 'thắm', 'thắng', 'thế', 'thị', 'thịnh', 'thọ', 'thống', 'thục', 'thụy', 'thủy', 'thức', 'thừa', 'tiên', 'tiến', 'tiền', 'tiểu', 'toàn', 'toản', 'trang', 'trinh', 'triết', 'triều', 'triệu', 'trung', 'truyền', 'trà', 'trâm', 'trân', 'trình', 'trí', 'trúc', 'trương', 'trường', 'trầm', 'trần', 'trịnh', 'trọng', 'trực', 'tuyên', 'tuyến', 'tuyết', 'tuyền', 'tuân', 'tuấn', 'tài', 'tâm', 'tân', 'tây', 'tình', 'tín', 'tính', 'tô', 'tôn', 'tùng', 'tú', 'tăng', 'tươi', 'tường', 'tạ', 'tấn', 'tất', 'tịnh', 'tố', 'tống', 'từ', 'uyên', 'vi', 'vinh', 'viên', 'viết', 'viễn', 'việt', 'vy', 'vân', 'vòng', 'võ', 'văn', 'vĩ', 'vĩnh', 'vũ', 'vương', 'vỹ', 'xuyên', 'xuyến', 'xuân', 'yên', 'yến', 'ái', 'ánh', 'ân', 'âu', 'ý', 'đan', 'đang', 'đinh', 'điền', 'điểu', 'điệp', 'đoan', 'đoàn', 'đài', 'đàm', 'đàng', 'đào', 'đình', 'đô', 'đông', 'đăng', 'đường', 'đại', 'đạo', 'đạt', 'đậu', 'đắc', 'đặng', 'định', 'đồng', 'đổng', 'đỗ', 'đức']\n",
            "(1, 388)\n"
          ]
        }
      ]
    },
    {
      "cell_type": "code",
      "source": [
        "from sklearn.decomposition import TruncatedSVD\n",
        "# Need to understand\n",
        "svd = TruncatedSVD(n_components=100)\n",
        "svd.fit(tf_idf_matrix)\n",
        "print(svd.transform(tf_idf_matrix))"
      ],
      "metadata": {
        "id": "xRuZn79FcBx-",
        "colab": {
          "base_uri": "https://localhost:8080/"
        },
        "outputId": "678a14dd-98e5-4a0b-e3e0-f3f07043a157"
      },
      "execution_count": null,
      "outputs": [
        {
          "output_type": "stream",
          "name": "stdout",
          "text": [
            "[[ 4.81338714e-01  1.01212602e-01 -9.33066191e-02 ...  1.27155550e-01\n",
            "   3.11833666e-01 -2.04977176e-03]\n",
            " [ 9.49502118e-01 -3.41938201e-01  2.72760219e-01 ... -6.17816185e-01\n",
            "  -1.17647373e-01  2.87285071e-01]\n",
            " [ 3.75913401e-01  3.50340334e-01 -3.27379166e-01 ... -1.43920609e+00\n",
            "  -8.95230242e-01  4.09109223e-01]\n",
            " ...\n",
            " [ 2.94594688e+00 -1.20606723e+00 -2.27589826e-01 ... -9.65750760e-02\n",
            "   1.81647499e-02  3.66520003e-02]\n",
            " [ 2.82959177e+00 -1.05672395e+00 -4.74989131e-01 ...  4.38205219e-02\n",
            "  -1.92313732e-01 -9.35709821e-02]\n",
            " [ 7.44438324e-01 -3.97130970e-01  4.09974456e-01 ...  5.29780516e-01\n",
            "  -4.65016057e-01  8.53292770e-01]]\n"
          ]
        }
      ]
    },
    {
      "cell_type": "code",
      "source": [
        "from sklearn.linear_model import LogisticRegression\n",
        "# Can code manually\n",
        "X = svd.transform(tf_idf_matrix)\n",
        "y = df[\"Gender\"]\n",
        "clf = LogisticRegression().fit(X, y)"
      ],
      "metadata": {
        "id": "JkM6mwoOfE9R"
      },
      "execution_count": null,
      "outputs": []
    },
    {
      "cell_type": "code",
      "source": [
        "clf.score(X, y)"
      ],
      "metadata": {
        "id": "JY0sDkUNd_9p",
        "colab": {
          "base_uri": "https://localhost:8080/"
        },
        "outputId": "6bf90ea2-d625-4563-ad5c-9eaf4ed1b4b2"
      },
      "execution_count": null,
      "outputs": [
        {
          "output_type": "execute_result",
          "data": {
            "text/plain": [
              "0.9355703698186287"
            ]
          },
          "metadata": {},
          "execution_count": 12
        }
      ]
    },
    {
      "cell_type": "code",
      "source": [
        "y_pred = clf.predict(X)"
      ],
      "metadata": {
        "id": "SJgcawwnfbOx"
      },
      "execution_count": null,
      "outputs": []
    },
    {
      "cell_type": "code",
      "source": [
        "name = [\"Nguyễn Hương Ly\"]\n",
        "ifidf_test = TF_IDF.compute_tf_idf_for_test(name)\n",
        "test_mat = svd.transform(ifidf_test)\n",
        "clf.predict_proba(test_mat)"
      ],
      "metadata": {
        "colab": {
          "base_uri": "https://localhost:8080/"
        },
        "id": "ZJaF7O69gTyl",
        "outputId": "b5b347ca-a70e-4d46-c558-7b16e0aa92ff"
      },
      "execution_count": null,
      "outputs": [
        {
          "output_type": "execute_result",
          "data": {
            "text/plain": [
              "array([[0.65758317, 0.34241683]])"
            ]
          },
          "metadata": {},
          "execution_count": 15
        }
      ]
    }
  ]
}