{
  "cells": [
    {
      "cell_type": "markdown",
      "metadata": {
        "id": "view-in-github",
        "colab_type": "text"
      },
      "source": [
        "<a href=\"https://colab.research.google.com/github/thiemcun203/testgithub/blob/main/Copy_of_gender_classification_using_w2v.ipynb\" target=\"_parent\"><img src=\"https://colab.research.google.com/assets/colab-badge.svg\" alt=\"Open In Colab\"/></a>"
      ]
    },
    {
      "cell_type": "markdown",
      "metadata": {
        "id": "reRjw4kwkc1f"
      },
      "source": [
        "# Connect to google drive\n"
      ]
    },
    {
      "cell_type": "code",
      "execution_count": 1,
      "metadata": {
        "colab": {
          "base_uri": "https://localhost:8080/"
        },
        "id": "bO0YJmFxFKJz",
        "outputId": "daeea1c9-847d-42e5-c7d3-ab8972904e1a"
      },
      "outputs": [
        {
          "output_type": "stream",
          "name": "stdout",
          "text": [
            "Mounted at /content/drive\n"
          ]
        }
      ],
      "source": [
        "from google.colab import drive\n",
        "drive.mount('/content/drive', force_remount=True)"
      ]
    },
    {
      "cell_type": "markdown",
      "metadata": {
        "id": "3O-0OXiLkt-i"
      },
      "source": [
        "# Import basic library"
      ]
    },
    {
      "cell_type": "code",
      "execution_count": 2,
      "metadata": {
        "id": "NroXWry-FUh2"
      },
      "outputs": [],
      "source": [
        "import pandas as pd\n",
        "import numpy as np\n",
        "import re\n",
        "import sys"
      ]
    },
    {
      "cell_type": "markdown",
      "metadata": {
        "id": "l1lRiU02k32a"
      },
      "source": [
        "# Import data file"
      ]
    },
    {
      "cell_type": "code",
      "execution_count": 3,
      "metadata": {
        "colab": {
          "base_uri": "https://localhost:8080/",
          "height": 221
        },
        "id": "NgNUC7-0FW2z",
        "outputId": "cc6b6f04-20af-4f1a-ae65-8cb00eb7969e"
      },
      "outputs": [
        {
          "output_type": "execute_result",
          "data": {
            "text/plain": [
              "           Full_Name  Gender\n",
              "0      Ngô Xuân Tùng       1\n",
              "1  Bùi Dương Thảo Vy       0\n",
              "2        Lưu Thế Huy       1\n",
              "3     Nguyễn Thị Vân       0\n",
              "4    Dương Minh Long       1"
            ],
            "text/html": [
              "\n",
              "  <div id=\"df-c18aee9e-fa94-40fd-b54a-f3689c6524e7\">\n",
              "    <div class=\"colab-df-container\">\n",
              "      <div>\n",
              "<style scoped>\n",
              "    .dataframe tbody tr th:only-of-type {\n",
              "        vertical-align: middle;\n",
              "    }\n",
              "\n",
              "    .dataframe tbody tr th {\n",
              "        vertical-align: top;\n",
              "    }\n",
              "\n",
              "    .dataframe thead th {\n",
              "        text-align: right;\n",
              "    }\n",
              "</style>\n",
              "<table border=\"1\" class=\"dataframe\">\n",
              "  <thead>\n",
              "    <tr style=\"text-align: right;\">\n",
              "      <th></th>\n",
              "      <th>Full_Name</th>\n",
              "      <th>Gender</th>\n",
              "    </tr>\n",
              "  </thead>\n",
              "  <tbody>\n",
              "    <tr>\n",
              "      <th>0</th>\n",
              "      <td>Ngô Xuân Tùng</td>\n",
              "      <td>1</td>\n",
              "    </tr>\n",
              "    <tr>\n",
              "      <th>1</th>\n",
              "      <td>Bùi Dương Thảo Vy</td>\n",
              "      <td>0</td>\n",
              "    </tr>\n",
              "    <tr>\n",
              "      <th>2</th>\n",
              "      <td>Lưu Thế Huy</td>\n",
              "      <td>1</td>\n",
              "    </tr>\n",
              "    <tr>\n",
              "      <th>3</th>\n",
              "      <td>Nguyễn Thị Vân</td>\n",
              "      <td>0</td>\n",
              "    </tr>\n",
              "    <tr>\n",
              "      <th>4</th>\n",
              "      <td>Dương Minh Long</td>\n",
              "      <td>1</td>\n",
              "    </tr>\n",
              "  </tbody>\n",
              "</table>\n",
              "</div>\n",
              "      <button class=\"colab-df-convert\" onclick=\"convertToInteractive('df-c18aee9e-fa94-40fd-b54a-f3689c6524e7')\"\n",
              "              title=\"Convert this dataframe to an interactive table.\"\n",
              "              style=\"display:none;\">\n",
              "        \n",
              "  <svg xmlns=\"http://www.w3.org/2000/svg\" height=\"24px\"viewBox=\"0 0 24 24\"\n",
              "       width=\"24px\">\n",
              "    <path d=\"M0 0h24v24H0V0z\" fill=\"none\"/>\n",
              "    <path d=\"M18.56 5.44l.94 2.06.94-2.06 2.06-.94-2.06-.94-.94-2.06-.94 2.06-2.06.94zm-11 1L8.5 8.5l.94-2.06 2.06-.94-2.06-.94L8.5 2.5l-.94 2.06-2.06.94zm10 10l.94 2.06.94-2.06 2.06-.94-2.06-.94-.94-2.06-.94 2.06-2.06.94z\"/><path d=\"M17.41 7.96l-1.37-1.37c-.4-.4-.92-.59-1.43-.59-.52 0-1.04.2-1.43.59L10.3 9.45l-7.72 7.72c-.78.78-.78 2.05 0 2.83L4 21.41c.39.39.9.59 1.41.59.51 0 1.02-.2 1.41-.59l7.78-7.78 2.81-2.81c.8-.78.8-2.07 0-2.86zM5.41 20L4 18.59l7.72-7.72 1.47 1.35L5.41 20z\"/>\n",
              "  </svg>\n",
              "      </button>\n",
              "      \n",
              "  <style>\n",
              "    .colab-df-container {\n",
              "      display:flex;\n",
              "      flex-wrap:wrap;\n",
              "      gap: 12px;\n",
              "    }\n",
              "\n",
              "    .colab-df-convert {\n",
              "      background-color: #E8F0FE;\n",
              "      border: none;\n",
              "      border-radius: 50%;\n",
              "      cursor: pointer;\n",
              "      display: none;\n",
              "      fill: #1967D2;\n",
              "      height: 32px;\n",
              "      padding: 0 0 0 0;\n",
              "      width: 32px;\n",
              "    }\n",
              "\n",
              "    .colab-df-convert:hover {\n",
              "      background-color: #E2EBFA;\n",
              "      box-shadow: 0px 1px 2px rgba(60, 64, 67, 0.3), 0px 1px 3px 1px rgba(60, 64, 67, 0.15);\n",
              "      fill: #174EA6;\n",
              "    }\n",
              "\n",
              "    [theme=dark] .colab-df-convert {\n",
              "      background-color: #3B4455;\n",
              "      fill: #D2E3FC;\n",
              "    }\n",
              "\n",
              "    [theme=dark] .colab-df-convert:hover {\n",
              "      background-color: #434B5C;\n",
              "      box-shadow: 0px 1px 3px 1px rgba(0, 0, 0, 0.15);\n",
              "      filter: drop-shadow(0px 1px 2px rgba(0, 0, 0, 0.3));\n",
              "      fill: #FFFFFF;\n",
              "    }\n",
              "  </style>\n",
              "\n",
              "      <script>\n",
              "        const buttonEl =\n",
              "          document.querySelector('#df-c18aee9e-fa94-40fd-b54a-f3689c6524e7 button.colab-df-convert');\n",
              "        buttonEl.style.display =\n",
              "          google.colab.kernel.accessAllowed ? 'block' : 'none';\n",
              "\n",
              "        async function convertToInteractive(key) {\n",
              "          const element = document.querySelector('#df-c18aee9e-fa94-40fd-b54a-f3689c6524e7');\n",
              "          const dataTable =\n",
              "            await google.colab.kernel.invokeFunction('convertToInteractive',\n",
              "                                                     [key], {});\n",
              "          if (!dataTable) return;\n",
              "\n",
              "          const docLinkHtml = 'Like what you see? Visit the ' +\n",
              "            '<a target=\"_blank\" href=https://colab.research.google.com/notebooks/data_table.ipynb>data table notebook</a>'\n",
              "            + ' to learn more about interactive tables.';\n",
              "          element.innerHTML = '';\n",
              "          dataTable['output_type'] = 'display_data';\n",
              "          await google.colab.output.renderOutput(dataTable, element);\n",
              "          const docLink = document.createElement('div');\n",
              "          docLink.innerHTML = docLinkHtml;\n",
              "          element.appendChild(docLink);\n",
              "        }\n",
              "      </script>\n",
              "    </div>\n",
              "  </div>\n",
              "  "
            ]
          },
          "metadata": {},
          "execution_count": 3
        }
      ],
      "source": [
        "parent_path = \"/content\"\n",
        "# training_path = parent_path + \"/name_train.csv\"\n",
        "# dev_path = parent_path + \"/name_dev.csv\"\n",
        "# test_path = parent_path + \"/name_test.csv\"\n",
        "data_path = parent_path + \"/name_full.csv\"\n",
        "df = pd.read_csv(data_path)\n",
        "df.head()"
      ]
    },
    {
      "cell_type": "markdown",
      "metadata": {
        "id": "XD3fZTt_l6U7"
      },
      "source": [
        "# Processing data"
      ]
    },
    {
      "cell_type": "code",
      "execution_count": 4,
      "metadata": {
        "colab": {
          "base_uri": "https://localhost:8080/"
        },
        "id": "MFKsgE0jIB4g",
        "outputId": "5c56ed66-14e3-4300-ad3d-34215e86771c"
      },
      "outputs": [
        {
          "output_type": "execute_result",
          "data": {
            "text/plain": [
              "[['ngô', 'xuân', 'tùng'],\n",
              " ['bùi', 'dương', 'thảo', 'vy'],\n",
              " ['lưu', 'thế', 'huy'],\n",
              " ['nguyễn', 'thị', 'vân'],\n",
              " ['dương', 'minh', 'long'],\n",
              " ['trần', 'mai', 'khanh'],\n",
              " ['nguyễn', 'thị', 'hồng', 'diệp'],\n",
              " ['nguyễn', 'hoàng', 'khang'],\n",
              " ['thi', 'ngọc', 'thái'],\n",
              " ['nguyễn', 'anh', 'huy']]"
            ]
          },
          "metadata": {},
          "execution_count": 4
        }
      ],
      "source": [
        "full_data = df[\"Full_Name\"]\n",
        "full_split_data = [sentence.lower().split() for sentence in full_data]\n",
        "full_split_data[:10]"
      ]
    },
    {
      "cell_type": "markdown",
      "metadata": {
        "id": "GvTB3G5mmECO"
      },
      "source": [
        "# Convert word to vector"
      ]
    },
    {
      "cell_type": "code",
      "execution_count": 5,
      "metadata": {
        "id": "mz1VgRL8mhYK"
      },
      "outputs": [],
      "source": [
        "from gensim.models import Word2Vec"
      ]
    },
    {
      "cell_type": "markdown",
      "metadata": {
        "id": "7-3x9U_6nZML"
      },
      "source": [
        "Run model to convert a word to vector\n"
      ]
    },
    {
      "cell_type": "code",
      "execution_count": 6,
      "metadata": {
        "id": "CeTed6MyI7Lq"
      },
      "outputs": [],
      "source": [
        "model = Word2Vec(sentences=full_split_data, vector_size = 200, min_count=3, window = 3, workers=4)"
      ]
    },
    {
      "cell_type": "markdown",
      "metadata": {
        "id": "xJy4i0Ofn2o1"
      },
      "source": [
        "Testing for some simlar words"
      ]
    },
    {
      "cell_type": "code",
      "execution_count": 7,
      "metadata": {
        "colab": {
          "base_uri": "https://localhost:8080/"
        },
        "id": "jJ8YbsWHJQoY",
        "outputId": "e8dda164-6324-489c-cb58-78aa24d12d54"
      },
      "outputs": [
        {
          "output_type": "stream",
          "name": "stdout",
          "text": [
            "[('chi', 0.9987182021141052), ('hoa', 0.9985941648483276), ('loan', 0.9979104399681091), ('tuyền', 0.9978675842285156), ('quyên', 0.9973053932189941), ('liên', 0.997281014919281), ('thắm', 0.9971706867218018), ('thoa', 0.9969372153282166), ('huệ', 0.9961676001548767), ('ly', 0.9960474967956543)]\n"
          ]
        }
      ],
      "source": [
        "word_vector = model.wv[\"phượng\"]\n",
        "similar_words = model.wv.most_similar('phượng')\n",
        "print(similar_words) "
      ]
    },
    {
      "cell_type": "code",
      "execution_count": null,
      "metadata": {
        "colab": {
          "background_save": true,
          "base_uri": "https://localhost:8080/",
          "height": 430
        },
        "id": "aYZb7JXrvnQ8",
        "outputId": "0f286d45-e32b-4568-989d-734d1aa5cd3d"
      },
      "outputs": [
        {
          "name": "stdout",
          "output_type": "stream",
          "text": [
            "['nguyễn', 'thị', 'trần', 'lê', 'ngọc', 'minh', 'thanh', 'văn', 'hoàng', 'phạm', 'huỳnh', 'anh', 'võ', 'phan', 'hồng', 'đức', 'kim', 'quốc', 'vũ', 'phương', 'thành', 'thu', 'duy', 'bùi', 'quang', 'đặng', 'trương', 'dương', 'huy', 'mỹ', 'tuấn', 'thảo', 'đỗ', 'trung', 'bảo', 'xuân', 'hữu', 'linh', 'ngô', 'hồ', 'mai', 'như', 'hà', 'nhật', 'tấn', 'khánh', 'thái', 'công', 'tiến', 'hiếu', 'phúc', 'yến', 'thùy', 'đình', 'quỳnh', 'đoàn', 'trang', 'thúy', 'hải', 'trọng', 'nhi', 'lâm', 'long', 'đạt', 'nam', 'ngân', 'nguyên', 'hoài', 'đinh', 'trường', 'huyền', 'cao', 'bích', 'đào', 'tú', 'kiều', 'châu', 'trúc', 'đăng', 'sơn', 'phước', 'an', 'khoa', 'hương', 'thư', 'cẩm', 'gia', 'tuyết', 'nhân', 'vy', 'hiền', 'chí', 'trí', 'duyên', 'tâm', 'lương', 'vân', 'việt', 'trịnh', 'tài', 'thắng', 'khang', 'hùng', 'thiên', 'bình', 'phú', 'ánh', 'hằng', 'thịnh', 'diễm', 'trâm', 'trinh', 'hưng', 'cường', 'thiện', 'lý', 'thế', 'nghĩa', 'thủy', 'giang', 'lan', 'lưu', 'tiên', 'tân', 'mạnh', 'vinh', 'uyên', 'hạnh', 'quân', 'phong', 'thuận', 'tường', 'lộc', 'phát', 'phi', 'nhung', 'toàn', 'sang', 'dung', 'my', 'bá', 'vương', 'vi', 'dũng', 'quyên', 'hậu', 'tùng', 'thi', 'danh', 'hân', 'trân', 'diệu', 'hoa', 'tuyền', 'oanh', 'nhựt', 'ly', 'thương', 'nga', 'đại', 'thạch', 'hòa', 'lệ', 'tô', 'tín', 'phùng', 'ý', 'kiệt', 'tạ', 'phượng', 'vĩnh', 'hào', 'trà', 'thông', 'chi', 'nguyệt', 'hiệp', 'kha', 'khôi', 'quý', 'viết', 'ân', 'loan', 'đông', 'luân', 'khải', 'triệu', 'lợi', 'huệ', 'nữ', 'phụng', 'kiên', 'hảo', 'thắm', 'liên', 'ái', 'khanh', 'sỹ', 'chung', 'diệp', 'cảnh', 'thoa', 'khắc', 'hiển', 'lam', 'quyền', 'chu', 'mộng', 'sương', 'chiến', 'đồng', 'mẫn', 'nhã', 'triều', 'khương', 'quí', 'kỳ', 'quế', 'vĩ', 'hoàn', 'tình', 'thy', 'thọ', 'quách', 'chương', 'từ', 'nhàn', 'điền', 'hường', 'tăng', 'tôn', 'tính', 'cương', 'thoại', 'tuyến', 'nông', 'nhất', 'bạch', 'đan', 'quyết', 'tiểu', 'thụy', 'định', 'đạo', 'na', 'thuý', 'tố', 'nghi', 'thơ', 'lại', 'thân', 'thức', 'hạ', 'khiêm', 'trình', 'tiền', 'sĩ', 'hứa', 'la', 'tống', 'đàm', 'sinh', 'đậu', 'đô', 'vỹ', 'bằng', 'giàu', 'tuyên', 'lực', 'điệp', 'đoan', 'chính', 'khả', 'cúc', 'trầm', 'mi', 'yên', 'chánh', 'đắc', 'triết', 'ninh', 'liêm', 'dư', 'nghị', 'thuỳ', 'trực', 'bách', 'nh', 'k', 'âu', 'băng', 'pháp', 'huân', 'ng', 'lành', 'phấn', 'viên', 'hoan', 'truyền', 'lư', 'du', 'lân', 'doãn', 'ka', 'pha', 'bé', 'đài', 'nguyê', 'thục', 'liễu', 'nghiêm', 'tất', 'tịnh', 'khuê', 'lữ', 'luận', 'h', 'bắc', 'hiệu', 'lượng', 'chế', 'mã', 'quy', 'đang', 'mậu', 'hợp', 'nhơn', 'lăng', 'nay', 'cát', 'xuyên', 'sanh', 'lục', 'bửu', 'lã', 'giao', 'thường', 'huynh', 'tây', 'mến', 'nhiên', 'chinh', 'thống', 'hoà', 'quảng', 'quan', 'chấn', 'chau', 'sen', 'thẩm', 'phạmvăn', 'tươi', 'vòng', 'thạnh', 'đàng', 'song', 'diểm', 'hửu', 'viễn', 'xuyến', 'luật', 'ngoan', 'điểu', 'toản', 'lai', 'huấn', 'huế', 'dân', 'học', 'nương', 'thừa', 'thao', 'lài', 'tuân', 'sáng', 'cáp', 'đường', 'nhớ', 'nhu', 'hội', 'thiều', 'hướng', 'sa', 'đổng', 'ngà', 'hy', 'di', 'thơm', 'y', 'diễn', 'kiến', 'mạc', 'trâ', 'lanh', 'doanh', 'thăng', 'nghiệp', 'ngo', 'tuệ', 'hồthị', 'tư', 'lãm', 'liêu', 'hán', 'đổ', 'thúc', 'cù', 'thiết', 'uyển', 'bế', 'phục', 'ny', 'biện', 'bão', 'khổng', 'vui', 'bội', 'luyến', 'đa', 'bành', 'lập', 'ksor', 'vủ', 'thuật', 'hiến', 'thuần', 'hàng', 'gấm', 'tiệp', 'tri', 'sầm', 'hiểu', 'hàn', 'thiệu', 'n', 'dĩ', 'hiên', 'vượng', 'trưởng', 'tạo', 'toán', 'san', 'thuỷ', 'xinh', 'khởi', 'út', 'tứ', 'bàn', 'tha', 'toại', 'ôn', 'triển', 'phu', 'hưởng', 'tới', 'kỷ', 'dinh', 'được', 'đỉnh', 'lường', 'nhẫn', 'dịu', 'chiêu', 'tỉnh', 'lò', 'mẩn', 'niê', 'dạ', 'mơ', 'chúc', 'ảnh', 'ông', 'xương', 'thời', 'nhị', 'nho', 'lụa', 'tiêu', 't', 'á', 'trạng', 'tòng', 'vàng', 'kế', 'tưởng', 'siêu', 'năng', 'lĩnh', 'thật', 'nguyện', 'thuy', 'thìn', 'rơ', 'lễ', 'trượng', 'ban', 'dự', 'ma', 'mang', 'huyên', 'ni', 'a', 'rmah', 'mỵ', 'sao', 'nhuận', 'quyến', 'thủ', 'duyệt', 'chiêm', 'tỷ', 'ha', 'sự', 'lên', 'khê', 'cơ', 'tào', 'nha', 'lạc', 'ẩn', 'vạn', 'đôn', 'diện', 'biên', 'qui', 'phạmtrần', 'hầu', 'phiên', 'tam', 'khuyên', 'quynh', 'thuyền', 'giáp', 'nhâm', 'ca', 'hỷ', 'tin', 'muội', 'thể', 'hoanh', 'sông', 'lũy', 'hợi', 'nhanh', 'quô', 'luyện', 'vọng', 'tử', 'phạmminh', 'chân', 'ấn', 'phạmquốc', 'thưởng', 'tồn', 'tự', 'khâm', 'thất', 'nhạn', 'sâm', 'chanh', 'trùng', 'khiết', 'nhiều', 'cầm', 'thới', 'thượng', 'sung', 'tánh', 'hiê', 'hóa', 'khưu', 'duẩn', 'đi', 'châm', 'văng', 'vu', 'phạmthanh', 'ung', 'ty', 'thuyên', 'u', 'lộ', 'lô', 'vẹn', 'phù', 'chất', 'huê', 'sam', 'phạmtrung', 'thánh', 'miên', 'kinh', 'srây', 'dụng', 'rin', 'đấu', 'sử', 'thực', 'dâng', 'bính', 'ngữ', 'phạmthảo', 'đư', 'mông', 'tốt', 'ba', 'các', 'luôn', 'min', 'puih', 'giảng', 'cảm', 'lắm', 'hai', 'uy', 'kính', 'ngư', 'tuyển', 'thêm', 'hài', 'kpă', 'chỉnh', 'đoa', 'vỏ', 'trị', 'khá', 'chuẩn', 'sắc', 'ngàn', 'trác', 'tiển', 'trầntrọng', 'li', 'cil', 'tiết', 'trấn', 'giản', 'mạch', 'lù', 'vịnh', 'phạmnguyễn', 'tý', 'uông', 'nhan', 'nên', 'lâu', 'phán', 'dũ', 'tiều', 'tần', 'ngôn', 'tá', 'son', 'sum', 'biển', 'thuyết', 'phóng', 'lang', 'hận', 'hàm', 'điểm', 'kbuôr', 'tuy', 'độ', 'sô', 'duơng', 'thỏa', 'chức', 'hanh', 'ký', 'thạo', 'đặngvăn']\n"
          ]
        }
      ],
      "source": [
        "ll=model.wv.index_to_key\n",
        "print(ll)"
      ]
    },
    {
      "cell_type": "markdown",
      "metadata": {
        "id": "cPzHjjVyn69z"
      },
      "source": [
        "Convert all sentences in data to vector (not just a word)"
      ]
    },
    {
      "cell_type": "code",
      "execution_count": null,
      "metadata": {
        "colab": {
          "base_uri": "https://localhost:8080/",
          "height": 404
        },
        "id": "iPMSuzslYAgM",
        "outputId": "d3e8414a-0e66-42b8-fa4e-7ae9dce7ed0f"
      },
      "outputs": [
        {
          "ename": "KeyError",
          "evalue": "ignored",
          "output_type": "error",
          "traceback": [
            "\u001b[0;31m---------------------------------------------------------------------------\u001b[0m",
            "\u001b[0;31mKeyError\u001b[0m                                  Traceback (most recent call last)",
            "\u001b[0;32m<ipython-input-19-5c796c327c79>\u001b[0m in \u001b[0;36m<cell line: 2>\u001b[0;34m()\u001b[0m\n\u001b[1;32m      1\u001b[0m \u001b[0msentence_vectors\u001b[0m \u001b[0;34m=\u001b[0m \u001b[0;34m[\u001b[0m\u001b[0;34m]\u001b[0m\u001b[0;34m\u001b[0m\u001b[0;34m\u001b[0m\u001b[0m\n\u001b[1;32m      2\u001b[0m \u001b[0;32mfor\u001b[0m \u001b[0msentence\u001b[0m \u001b[0;32min\u001b[0m \u001b[0mfull_split_data\u001b[0m\u001b[0;34m:\u001b[0m\u001b[0;34m\u001b[0m\u001b[0;34m\u001b[0m\u001b[0m\n\u001b[0;32m----> 3\u001b[0;31m     \u001b[0mvector\u001b[0m \u001b[0;34m=\u001b[0m \u001b[0msum\u001b[0m\u001b[0;34m(\u001b[0m\u001b[0mmodel\u001b[0m\u001b[0;34m.\u001b[0m\u001b[0mwv\u001b[0m\u001b[0;34m[\u001b[0m\u001b[0mword\u001b[0m\u001b[0;34m]\u001b[0m \u001b[0;32mfor\u001b[0m \u001b[0mword\u001b[0m \u001b[0;32min\u001b[0m \u001b[0msentence\u001b[0m\u001b[0;34m)\u001b[0m \u001b[0;34m/\u001b[0m \u001b[0mlen\u001b[0m\u001b[0;34m(\u001b[0m\u001b[0msentence\u001b[0m\u001b[0;34m)\u001b[0m  \u001b[0;31m# Average word vectors in the sentence\u001b[0m\u001b[0;34m\u001b[0m\u001b[0;34m\u001b[0m\u001b[0m\n\u001b[0m\u001b[1;32m      4\u001b[0m     \u001b[0msentence_vectors\u001b[0m\u001b[0;34m.\u001b[0m\u001b[0mappend\u001b[0m\u001b[0;34m(\u001b[0m\u001b[0mvector\u001b[0m\u001b[0;34m)\u001b[0m\u001b[0;34m\u001b[0m\u001b[0;34m\u001b[0m\u001b[0m\n",
            "\u001b[0;32m<ipython-input-19-5c796c327c79>\u001b[0m in \u001b[0;36m<genexpr>\u001b[0;34m(.0)\u001b[0m\n\u001b[1;32m      1\u001b[0m \u001b[0msentence_vectors\u001b[0m \u001b[0;34m=\u001b[0m \u001b[0;34m[\u001b[0m\u001b[0;34m]\u001b[0m\u001b[0;34m\u001b[0m\u001b[0;34m\u001b[0m\u001b[0m\n\u001b[1;32m      2\u001b[0m \u001b[0;32mfor\u001b[0m \u001b[0msentence\u001b[0m \u001b[0;32min\u001b[0m \u001b[0mfull_split_data\u001b[0m\u001b[0;34m:\u001b[0m\u001b[0;34m\u001b[0m\u001b[0;34m\u001b[0m\u001b[0m\n\u001b[0;32m----> 3\u001b[0;31m     \u001b[0mvector\u001b[0m \u001b[0;34m=\u001b[0m \u001b[0msum\u001b[0m\u001b[0;34m(\u001b[0m\u001b[0mmodel\u001b[0m\u001b[0;34m.\u001b[0m\u001b[0mwv\u001b[0m\u001b[0;34m[\u001b[0m\u001b[0mword\u001b[0m\u001b[0;34m]\u001b[0m \u001b[0;32mfor\u001b[0m \u001b[0mword\u001b[0m \u001b[0;32min\u001b[0m \u001b[0msentence\u001b[0m\u001b[0;34m)\u001b[0m \u001b[0;34m/\u001b[0m \u001b[0mlen\u001b[0m\u001b[0;34m(\u001b[0m\u001b[0msentence\u001b[0m\u001b[0;34m)\u001b[0m  \u001b[0;31m# Average word vectors in the sentence\u001b[0m\u001b[0;34m\u001b[0m\u001b[0;34m\u001b[0m\u001b[0m\n\u001b[0m\u001b[1;32m      4\u001b[0m     \u001b[0msentence_vectors\u001b[0m\u001b[0;34m.\u001b[0m\u001b[0mappend\u001b[0m\u001b[0;34m(\u001b[0m\u001b[0mvector\u001b[0m\u001b[0;34m)\u001b[0m\u001b[0;34m\u001b[0m\u001b[0;34m\u001b[0m\u001b[0m\n",
            "\u001b[0;32m/usr/local/lib/python3.10/dist-packages/gensim/models/keyedvectors.py\u001b[0m in \u001b[0;36m__getitem__\u001b[0;34m(self, key_or_keys)\u001b[0m\n\u001b[1;32m    401\u001b[0m         \"\"\"\n\u001b[1;32m    402\u001b[0m         \u001b[0;32mif\u001b[0m \u001b[0misinstance\u001b[0m\u001b[0;34m(\u001b[0m\u001b[0mkey_or_keys\u001b[0m\u001b[0;34m,\u001b[0m \u001b[0m_KEY_TYPES\u001b[0m\u001b[0;34m)\u001b[0m\u001b[0;34m:\u001b[0m\u001b[0;34m\u001b[0m\u001b[0;34m\u001b[0m\u001b[0m\n\u001b[0;32m--> 403\u001b[0;31m             \u001b[0;32mreturn\u001b[0m \u001b[0mself\u001b[0m\u001b[0;34m.\u001b[0m\u001b[0mget_vector\u001b[0m\u001b[0;34m(\u001b[0m\u001b[0mkey_or_keys\u001b[0m\u001b[0;34m)\u001b[0m\u001b[0;34m\u001b[0m\u001b[0;34m\u001b[0m\u001b[0m\n\u001b[0m\u001b[1;32m    404\u001b[0m \u001b[0;34m\u001b[0m\u001b[0m\n\u001b[1;32m    405\u001b[0m         \u001b[0;32mreturn\u001b[0m \u001b[0mvstack\u001b[0m\u001b[0;34m(\u001b[0m\u001b[0;34m[\u001b[0m\u001b[0mself\u001b[0m\u001b[0;34m.\u001b[0m\u001b[0mget_vector\u001b[0m\u001b[0;34m(\u001b[0m\u001b[0mkey\u001b[0m\u001b[0;34m)\u001b[0m \u001b[0;32mfor\u001b[0m \u001b[0mkey\u001b[0m \u001b[0;32min\u001b[0m \u001b[0mkey_or_keys\u001b[0m\u001b[0;34m]\u001b[0m\u001b[0;34m)\u001b[0m\u001b[0;34m\u001b[0m\u001b[0;34m\u001b[0m\u001b[0m\n",
            "\u001b[0;32m/usr/local/lib/python3.10/dist-packages/gensim/models/keyedvectors.py\u001b[0m in \u001b[0;36mget_vector\u001b[0;34m(self, key, norm)\u001b[0m\n\u001b[1;32m    444\u001b[0m \u001b[0;34m\u001b[0m\u001b[0m\n\u001b[1;32m    445\u001b[0m         \"\"\"\n\u001b[0;32m--> 446\u001b[0;31m         \u001b[0mindex\u001b[0m \u001b[0;34m=\u001b[0m \u001b[0mself\u001b[0m\u001b[0;34m.\u001b[0m\u001b[0mget_index\u001b[0m\u001b[0;34m(\u001b[0m\u001b[0mkey\u001b[0m\u001b[0;34m)\u001b[0m\u001b[0;34m\u001b[0m\u001b[0;34m\u001b[0m\u001b[0m\n\u001b[0m\u001b[1;32m    447\u001b[0m         \u001b[0;32mif\u001b[0m \u001b[0mnorm\u001b[0m\u001b[0;34m:\u001b[0m\u001b[0;34m\u001b[0m\u001b[0;34m\u001b[0m\u001b[0m\n\u001b[1;32m    448\u001b[0m             \u001b[0mself\u001b[0m\u001b[0;34m.\u001b[0m\u001b[0mfill_norms\u001b[0m\u001b[0;34m(\u001b[0m\u001b[0;34m)\u001b[0m\u001b[0;34m\u001b[0m\u001b[0;34m\u001b[0m\u001b[0m\n",
            "\u001b[0;32m/usr/local/lib/python3.10/dist-packages/gensim/models/keyedvectors.py\u001b[0m in \u001b[0;36mget_index\u001b[0;34m(self, key, default)\u001b[0m\n\u001b[1;32m    418\u001b[0m             \u001b[0;32mreturn\u001b[0m \u001b[0mdefault\u001b[0m\u001b[0;34m\u001b[0m\u001b[0;34m\u001b[0m\u001b[0m\n\u001b[1;32m    419\u001b[0m         \u001b[0;32melse\u001b[0m\u001b[0;34m:\u001b[0m\u001b[0;34m\u001b[0m\u001b[0;34m\u001b[0m\u001b[0m\n\u001b[0;32m--> 420\u001b[0;31m             \u001b[0;32mraise\u001b[0m \u001b[0mKeyError\u001b[0m\u001b[0;34m(\u001b[0m\u001b[0;34mf\"Key '{key}' not present\"\u001b[0m\u001b[0;34m)\u001b[0m\u001b[0;34m\u001b[0m\u001b[0;34m\u001b[0m\u001b[0m\n\u001b[0m\u001b[1;32m    421\u001b[0m \u001b[0;34m\u001b[0m\u001b[0m\n\u001b[1;32m    422\u001b[0m     \u001b[0;32mdef\u001b[0m \u001b[0mget_vector\u001b[0m\u001b[0;34m(\u001b[0m\u001b[0mself\u001b[0m\u001b[0;34m,\u001b[0m \u001b[0mkey\u001b[0m\u001b[0;34m,\u001b[0m \u001b[0mnorm\u001b[0m\u001b[0;34m=\u001b[0m\u001b[0;32mFalse\u001b[0m\u001b[0;34m)\u001b[0m\u001b[0;34m:\u001b[0m\u001b[0;34m\u001b[0m\u001b[0;34m\u001b[0m\u001b[0m\n",
            "\u001b[0;31mKeyError\u001b[0m: \"Key 'khảo' not present\""
          ]
        }
      ],
      "source": [
        "sentence_vectors = []\n",
        "for sentence in full_split_data:\n",
        "    vector = sum(model.wv[word] for word in sentence) / len(sentence)  # Average word vectors in the sentence\n",
        "    sentence_vectors.append(vector)"
      ]
    },
    {
      "cell_type": "markdown",
      "metadata": {
        "id": "NbZzd55BoJzh"
      },
      "source": [
        "Function to return any word to vector based on given data"
      ]
    },
    {
      "cell_type": "code",
      "execution_count": null,
      "metadata": {
        "id": "CpenP_dqM44O"
      },
      "outputs": [],
      "source": [
        "def word_2_vec(name_sentence,sentences=full_data):\n",
        "  sentences = list(sentences)\n",
        "  name_lowercase =name_sentence.lower()\n",
        "  sentences.append(name_lowercase)\n",
        "  full_split_data = [sentence.lower().split() for sentence in sentences]\n",
        "  model = Word2Vec(sentences=full_split_data, min_count=1)\n",
        "  splitted_name_sentence = name_lowercase.split()\n",
        "  vector = sum(model.wv[word] for word in splitted_name_sentence) / len(splitted_name_sentence) \n",
        "  return vector\n"
      ]
    },
    {
      "cell_type": "code",
      "execution_count": null,
      "metadata": {
        "colab": {
          "base_uri": "https://localhost:8080/"
        },
        "id": "hH6uiXecszV1",
        "outputId": "21df6c77-0c70-406b-d7ac-13994f17e8f9"
      },
      "outputs": [
        {
          "name": "stdout",
          "output_type": "stream",
          "text": [
            "[-6.27691075e-02  1.19022526e-01  2.10787933e-02  6.55416027e-02\n",
            "  2.17976887e-02 -2.40619957e-01  8.76394138e-02  3.27719122e-01\n",
            " -1.48618937e-01 -6.96491078e-02 -2.37217490e-02 -2.14779496e-01\n",
            " -6.60826564e-02  9.70923975e-02  4.99597900e-02 -9.59498510e-02\n",
            "  6.14432395e-02 -9.62592959e-02 -1.14775419e-01 -3.02294105e-01\n",
            "  7.74920136e-02  8.60770941e-02  1.69301227e-01 -7.02326372e-02\n",
            " -2.12369878e-02  3.13675739e-02 -8.65113735e-02 -7.34627843e-02\n",
            " -9.90219414e-02  2.26815417e-02  1.86450854e-01 -7.38025829e-02\n",
            "  1.73138514e-01 -1.36659011e-01 -8.63594413e-02  1.63497224e-01\n",
            "  1.12030596e-01  3.65554281e-02  7.10059190e-03 -2.04832613e-01\n",
            "  1.57036129e-02 -4.88211177e-02 -1.30550414e-01 -9.54793300e-03\n",
            "  6.51899055e-02 -4.74180579e-02  1.40216863e-02 -3.71673368e-02\n",
            "  1.43000707e-01  1.17675185e-01  2.16795001e-02 -8.57536569e-02\n",
            " -2.91760322e-02  1.73793789e-02  1.51431793e-02  4.48664539e-02\n",
            "  5.27794659e-02 -1.26288587e-03 -1.07246496e-01  8.16995725e-02\n",
            " -5.88763207e-02  5.17302118e-02  8.36630985e-02 -1.66898426e-02\n",
            " -1.43763527e-01  1.97733328e-01  1.41564742e-01  1.67086259e-01\n",
            " -2.44381294e-01  2.21540749e-01  1.57202017e-02  1.24922134e-01\n",
            "  1.32741705e-01 -3.05174496e-02  1.48242787e-01  8.14434886e-02\n",
            "  4.16859053e-02  1.74835902e-02 -1.51304707e-01 -1.44024128e-02\n",
            " -4.84801494e-02 -3.55045922e-04 -8.98826718e-02  2.20087275e-01\n",
            " -1.01064898e-01 -4.90729064e-02  7.60070235e-02  8.75319317e-02\n",
            "  1.06122233e-01  7.05124736e-02  7.86141753e-02  1.24393046e-01\n",
            "  1.27183154e-01 -4.55184318e-02  2.92779595e-01  9.73361358e-02\n",
            "  9.06974077e-02 -8.02185908e-02  8.16331953e-02 -8.99035149e-05]\n"
          ]
        }
      ],
      "source": [
        "print(word_2_vec(\"nguyễn bá thiêm\"))"
      ]
    },
    {
      "cell_type": "markdown",
      "metadata": {
        "id": "l-wTj-JRodpL"
      },
      "source": [
        "# Train model to predict gender using SVM"
      ]
    },
    {
      "cell_type": "code",
      "execution_count": null,
      "metadata": {
        "id": "JkM6mwoOfE9R"
      },
      "outputs": [],
      "source": [
        "from sklearn.model_selection import train_test_split\n",
        "from sklearn.svm import SVC\n",
        "X=sentence_vectors\n",
        "y=df[\"Gender\"]\n",
        "X_train, X_test, y_train, y_test = train_test_split(X, y, test_size=0.2, random_state=42)\n"
      ]
    },
    {
      "cell_type": "code",
      "execution_count": null,
      "metadata": {
        "id": "JY0sDkUNd_9p"
      },
      "outputs": [],
      "source": [
        "svm = SVC()"
      ]
    },
    {
      "cell_type": "code",
      "execution_count": null,
      "metadata": {
        "colab": {
          "base_uri": "https://localhost:8080/",
          "height": 93
        },
        "id": "SJgcawwnfbOx",
        "outputId": "bee527fe-7799-4cdd-9a00-2326b3c59e04"
      },
      "outputs": [
        {
          "data": {
            "text/html": [
              "<style>#sk-container-id-4 {color: black;background-color: white;}#sk-container-id-4 pre{padding: 0;}#sk-container-id-4 div.sk-toggleable {background-color: white;}#sk-container-id-4 label.sk-toggleable__label {cursor: pointer;display: block;width: 100%;margin-bottom: 0;padding: 0.3em;box-sizing: border-box;text-align: center;}#sk-container-id-4 label.sk-toggleable__label-arrow:before {content: \"▸\";float: left;margin-right: 0.25em;color: #696969;}#sk-container-id-4 label.sk-toggleable__label-arrow:hover:before {color: black;}#sk-container-id-4 div.sk-estimator:hover label.sk-toggleable__label-arrow:before {color: black;}#sk-container-id-4 div.sk-toggleable__content {max-height: 0;max-width: 0;overflow: hidden;text-align: left;background-color: #f0f8ff;}#sk-container-id-4 div.sk-toggleable__content pre {margin: 0.2em;color: black;border-radius: 0.25em;background-color: #f0f8ff;}#sk-container-id-4 input.sk-toggleable__control:checked~div.sk-toggleable__content {max-height: 200px;max-width: 100%;overflow: auto;}#sk-container-id-4 input.sk-toggleable__control:checked~label.sk-toggleable__label-arrow:before {content: \"▾\";}#sk-container-id-4 div.sk-estimator input.sk-toggleable__control:checked~label.sk-toggleable__label {background-color: #d4ebff;}#sk-container-id-4 div.sk-label input.sk-toggleable__control:checked~label.sk-toggleable__label {background-color: #d4ebff;}#sk-container-id-4 input.sk-hidden--visually {border: 0;clip: rect(1px 1px 1px 1px);clip: rect(1px, 1px, 1px, 1px);height: 1px;margin: -1px;overflow: hidden;padding: 0;position: absolute;width: 1px;}#sk-container-id-4 div.sk-estimator {font-family: monospace;background-color: #f0f8ff;border: 1px dotted black;border-radius: 0.25em;box-sizing: border-box;margin-bottom: 0.5em;}#sk-container-id-4 div.sk-estimator:hover {background-color: #d4ebff;}#sk-container-id-4 div.sk-parallel-item::after {content: \"\";width: 100%;border-bottom: 1px solid gray;flex-grow: 1;}#sk-container-id-4 div.sk-label:hover label.sk-toggleable__label {background-color: #d4ebff;}#sk-container-id-4 div.sk-serial::before {content: \"\";position: absolute;border-left: 1px solid gray;box-sizing: border-box;top: 0;bottom: 0;left: 50%;z-index: 0;}#sk-container-id-4 div.sk-serial {display: flex;flex-direction: column;align-items: center;background-color: white;padding-right: 0.2em;padding-left: 0.2em;position: relative;}#sk-container-id-4 div.sk-item {position: relative;z-index: 1;}#sk-container-id-4 div.sk-parallel {display: flex;align-items: stretch;justify-content: center;background-color: white;position: relative;}#sk-container-id-4 div.sk-item::before, #sk-container-id-4 div.sk-parallel-item::before {content: \"\";position: absolute;border-left: 1px solid gray;box-sizing: border-box;top: 0;bottom: 0;left: 50%;z-index: -1;}#sk-container-id-4 div.sk-parallel-item {display: flex;flex-direction: column;z-index: 1;position: relative;background-color: white;}#sk-container-id-4 div.sk-parallel-item:first-child::after {align-self: flex-end;width: 50%;}#sk-container-id-4 div.sk-parallel-item:last-child::after {align-self: flex-start;width: 50%;}#sk-container-id-4 div.sk-parallel-item:only-child::after {width: 0;}#sk-container-id-4 div.sk-dashed-wrapped {border: 1px dashed gray;margin: 0 0.4em 0.5em 0.4em;box-sizing: border-box;padding-bottom: 0.4em;background-color: white;}#sk-container-id-4 div.sk-label label {font-family: monospace;font-weight: bold;display: inline-block;line-height: 1.2em;}#sk-container-id-4 div.sk-label-container {text-align: center;}#sk-container-id-4 div.sk-container {/* jupyter's `normalize.less` sets `[hidden] { display: none; }` but bootstrap.min.css set `[hidden] { display: none !important; }` so we also need the `!important` here to be able to override the default hidden behavior on the sphinx rendered scikit-learn.org. See: https://github.com/scikit-learn/scikit-learn/issues/21755 */display: inline-block !important;position: relative;}#sk-container-id-4 div.sk-text-repr-fallback {display: none;}</style><div id=\"sk-container-id-4\" class=\"sk-top-container\"><div class=\"sk-text-repr-fallback\"><pre>SVC()</pre><b>In a Jupyter environment, please rerun this cell to show the HTML representation or trust the notebook. <br />On GitHub, the HTML representation is unable to render, please try loading this page with nbviewer.org.</b></div><div class=\"sk-container\" hidden><div class=\"sk-item\"><div class=\"sk-estimator sk-toggleable\"><input class=\"sk-toggleable__control sk-hidden--visually\" id=\"sk-estimator-id-4\" type=\"checkbox\" checked><label for=\"sk-estimator-id-4\" class=\"sk-toggleable__label sk-toggleable__label-arrow\">SVC</label><div class=\"sk-toggleable__content\"><pre>SVC()</pre></div></div></div></div></div>"
            ],
            "text/plain": [
              "SVC()"
            ]
          },
          "execution_count": 42,
          "metadata": {},
          "output_type": "execute_result"
        }
      ],
      "source": [
        "svm.fit(X_train, y_train)\n"
      ]
    },
    {
      "cell_type": "markdown",
      "metadata": {
        "id": "YTLs8UW2omo9"
      },
      "source": [
        "Estimate Accuracy"
      ]
    },
    {
      "cell_type": "code",
      "execution_count": null,
      "metadata": {
        "colab": {
          "base_uri": "https://localhost:8080/"
        },
        "id": "_UCkxaTFRFZB",
        "outputId": "b8c51966-c7e2-4791-c1b1-76b4848e99e8"
      },
      "outputs": [
        {
          "name": "stdout",
          "output_type": "stream",
          "text": [
            "Accuracy: 0.9305529696518339\n"
          ]
        }
      ],
      "source": [
        "accuracy = svm.score(X_test, y_test)\n",
        "print(\"Accuracy:\", accuracy)\n"
      ]
    },
    {
      "cell_type": "markdown",
      "metadata": {
        "id": "M3CCrRaRhU_Q"
      },
      "source": [
        "Testing"
      ]
    },
    {
      "cell_type": "code",
      "execution_count": null,
      "metadata": {
        "colab": {
          "base_uri": "https://localhost:8080/"
        },
        "id": "ZJaF7O69gTyl",
        "outputId": "0d986a6e-1bf5-4ba1-a617-3b7552e8090e"
      },
      "outputs": [
        {
          "name": "stdout",
          "output_type": "stream",
          "text": [
            "[0]\n"
          ]
        }
      ],
      "source": [
        "name = \"Nguyễn Thị Minh Trang\"\n",
        "name_vector = word_2_vec(name).reshape(1,-1)\n",
        "y_pred = svm.predict(name_vector)\n",
        "print(y_pred)"
      ]
    },
    {
      "cell_type": "markdown",
      "metadata": {
        "id": "corx2scJo2lK"
      },
      "source": [
        "# Train model to predict gender using "
      ]
    },
    {
      "cell_type": "code",
      "execution_count": null,
      "metadata": {
        "colab": {
          "base_uri": "https://localhost:8080/",
          "height": 93
        },
        "id": "fmquKl4MpseL",
        "outputId": "afd9b4d1-052b-44bc-d856-58e89743dc6c"
      },
      "outputs": [
        {
          "data": {
            "text/html": [
              "<style>#sk-container-id-5 {color: black;background-color: white;}#sk-container-id-5 pre{padding: 0;}#sk-container-id-5 div.sk-toggleable {background-color: white;}#sk-container-id-5 label.sk-toggleable__label {cursor: pointer;display: block;width: 100%;margin-bottom: 0;padding: 0.3em;box-sizing: border-box;text-align: center;}#sk-container-id-5 label.sk-toggleable__label-arrow:before {content: \"▸\";float: left;margin-right: 0.25em;color: #696969;}#sk-container-id-5 label.sk-toggleable__label-arrow:hover:before {color: black;}#sk-container-id-5 div.sk-estimator:hover label.sk-toggleable__label-arrow:before {color: black;}#sk-container-id-5 div.sk-toggleable__content {max-height: 0;max-width: 0;overflow: hidden;text-align: left;background-color: #f0f8ff;}#sk-container-id-5 div.sk-toggleable__content pre {margin: 0.2em;color: black;border-radius: 0.25em;background-color: #f0f8ff;}#sk-container-id-5 input.sk-toggleable__control:checked~div.sk-toggleable__content {max-height: 200px;max-width: 100%;overflow: auto;}#sk-container-id-5 input.sk-toggleable__control:checked~label.sk-toggleable__label-arrow:before {content: \"▾\";}#sk-container-id-5 div.sk-estimator input.sk-toggleable__control:checked~label.sk-toggleable__label {background-color: #d4ebff;}#sk-container-id-5 div.sk-label input.sk-toggleable__control:checked~label.sk-toggleable__label {background-color: #d4ebff;}#sk-container-id-5 input.sk-hidden--visually {border: 0;clip: rect(1px 1px 1px 1px);clip: rect(1px, 1px, 1px, 1px);height: 1px;margin: -1px;overflow: hidden;padding: 0;position: absolute;width: 1px;}#sk-container-id-5 div.sk-estimator {font-family: monospace;background-color: #f0f8ff;border: 1px dotted black;border-radius: 0.25em;box-sizing: border-box;margin-bottom: 0.5em;}#sk-container-id-5 div.sk-estimator:hover {background-color: #d4ebff;}#sk-container-id-5 div.sk-parallel-item::after {content: \"\";width: 100%;border-bottom: 1px solid gray;flex-grow: 1;}#sk-container-id-5 div.sk-label:hover label.sk-toggleable__label {background-color: #d4ebff;}#sk-container-id-5 div.sk-serial::before {content: \"\";position: absolute;border-left: 1px solid gray;box-sizing: border-box;top: 0;bottom: 0;left: 50%;z-index: 0;}#sk-container-id-5 div.sk-serial {display: flex;flex-direction: column;align-items: center;background-color: white;padding-right: 0.2em;padding-left: 0.2em;position: relative;}#sk-container-id-5 div.sk-item {position: relative;z-index: 1;}#sk-container-id-5 div.sk-parallel {display: flex;align-items: stretch;justify-content: center;background-color: white;position: relative;}#sk-container-id-5 div.sk-item::before, #sk-container-id-5 div.sk-parallel-item::before {content: \"\";position: absolute;border-left: 1px solid gray;box-sizing: border-box;top: 0;bottom: 0;left: 50%;z-index: -1;}#sk-container-id-5 div.sk-parallel-item {display: flex;flex-direction: column;z-index: 1;position: relative;background-color: white;}#sk-container-id-5 div.sk-parallel-item:first-child::after {align-self: flex-end;width: 50%;}#sk-container-id-5 div.sk-parallel-item:last-child::after {align-self: flex-start;width: 50%;}#sk-container-id-5 div.sk-parallel-item:only-child::after {width: 0;}#sk-container-id-5 div.sk-dashed-wrapped {border: 1px dashed gray;margin: 0 0.4em 0.5em 0.4em;box-sizing: border-box;padding-bottom: 0.4em;background-color: white;}#sk-container-id-5 div.sk-label label {font-family: monospace;font-weight: bold;display: inline-block;line-height: 1.2em;}#sk-container-id-5 div.sk-label-container {text-align: center;}#sk-container-id-5 div.sk-container {/* jupyter's `normalize.less` sets `[hidden] { display: none; }` but bootstrap.min.css set `[hidden] { display: none !important; }` so we also need the `!important` here to be able to override the default hidden behavior on the sphinx rendered scikit-learn.org. See: https://github.com/scikit-learn/scikit-learn/issues/21755 */display: inline-block !important;position: relative;}#sk-container-id-5 div.sk-text-repr-fallback {display: none;}</style><div id=\"sk-container-id-5\" class=\"sk-top-container\"><div class=\"sk-text-repr-fallback\"><pre>LogisticRegression()</pre><b>In a Jupyter environment, please rerun this cell to show the HTML representation or trust the notebook. <br />On GitHub, the HTML representation is unable to render, please try loading this page with nbviewer.org.</b></div><div class=\"sk-container\" hidden><div class=\"sk-item\"><div class=\"sk-estimator sk-toggleable\"><input class=\"sk-toggleable__control sk-hidden--visually\" id=\"sk-estimator-id-5\" type=\"checkbox\" checked><label for=\"sk-estimator-id-5\" class=\"sk-toggleable__label sk-toggleable__label-arrow\">LogisticRegression</label><div class=\"sk-toggleable__content\"><pre>LogisticRegression()</pre></div></div></div></div></div>"
            ],
            "text/plain": [
              "LogisticRegression()"
            ]
          },
          "execution_count": 44,
          "metadata": {},
          "output_type": "execute_result"
        }
      ],
      "source": [
        "\n",
        "# Create an instance of the LogisticRegression model\n",
        "logreg = LogisticRegression()\n",
        "\n",
        "# Fit the model to the training data\n",
        "logreg.fit(X_train, y_train)\n"
      ]
    },
    {
      "cell_type": "code",
      "execution_count": null,
      "metadata": {
        "colab": {
          "base_uri": "https://localhost:8080/"
        },
        "id": "jKbw8zVmpy47",
        "outputId": "aa06a141-cb14-4a77-8432-aaf1379d3a2b"
      },
      "outputs": [
        {
          "name": "stdout",
          "output_type": "stream",
          "text": [
            "Accuracy: 0.9303667845838763\n"
          ]
        }
      ],
      "source": [
        "# Compare the predicted labels with the true labels and calculate the accuracy\n",
        "accuracy = logreg.score(X_test, y_test)\n",
        "print(\"Accuracy:\", accuracy)\n"
      ]
    },
    {
      "cell_type": "code",
      "execution_count": null,
      "metadata": {
        "colab": {
          "base_uri": "https://localhost:8080/"
        },
        "id": "e4_DLnS9pwdp",
        "outputId": "ec144d3d-04c2-4016-9d1a-9634037d1414"
      },
      "outputs": [
        {
          "name": "stdout",
          "output_type": "stream",
          "text": [
            "[0]\n"
          ]
        }
      ],
      "source": [
        "# Use the trained model to make predictions on the test data\n",
        "name = \"Hồ Thiện Quỳnh\"\n",
        "name_vector = word_2_vec(name).reshape(1,-1)\n",
        "\n",
        "y_pred = logreg.predict(name_vector)\n",
        "print(y_pred)\n",
        "                        "
      ]
    },
    {
      "cell_type": "markdown",
      "metadata": {
        "id": "Tpdw2S8s5WIy"
      },
      "source": [
        "# Train model to predict gender using Random Forest"
      ]
    },
    {
      "cell_type": "code",
      "execution_count": null,
      "metadata": {
        "colab": {
          "base_uri": "https://localhost:8080/",
          "height": 93
        },
        "id": "WA-RPjF96Rl2",
        "outputId": "4f4d057e-6749-4f21-9d5c-097f39494543"
      },
      "outputs": [
        {
          "data": {
            "text/html": [
              "<style>#sk-container-id-6 {color: black;background-color: white;}#sk-container-id-6 pre{padding: 0;}#sk-container-id-6 div.sk-toggleable {background-color: white;}#sk-container-id-6 label.sk-toggleable__label {cursor: pointer;display: block;width: 100%;margin-bottom: 0;padding: 0.3em;box-sizing: border-box;text-align: center;}#sk-container-id-6 label.sk-toggleable__label-arrow:before {content: \"▸\";float: left;margin-right: 0.25em;color: #696969;}#sk-container-id-6 label.sk-toggleable__label-arrow:hover:before {color: black;}#sk-container-id-6 div.sk-estimator:hover label.sk-toggleable__label-arrow:before {color: black;}#sk-container-id-6 div.sk-toggleable__content {max-height: 0;max-width: 0;overflow: hidden;text-align: left;background-color: #f0f8ff;}#sk-container-id-6 div.sk-toggleable__content pre {margin: 0.2em;color: black;border-radius: 0.25em;background-color: #f0f8ff;}#sk-container-id-6 input.sk-toggleable__control:checked~div.sk-toggleable__content {max-height: 200px;max-width: 100%;overflow: auto;}#sk-container-id-6 input.sk-toggleable__control:checked~label.sk-toggleable__label-arrow:before {content: \"▾\";}#sk-container-id-6 div.sk-estimator input.sk-toggleable__control:checked~label.sk-toggleable__label {background-color: #d4ebff;}#sk-container-id-6 div.sk-label input.sk-toggleable__control:checked~label.sk-toggleable__label {background-color: #d4ebff;}#sk-container-id-6 input.sk-hidden--visually {border: 0;clip: rect(1px 1px 1px 1px);clip: rect(1px, 1px, 1px, 1px);height: 1px;margin: -1px;overflow: hidden;padding: 0;position: absolute;width: 1px;}#sk-container-id-6 div.sk-estimator {font-family: monospace;background-color: #f0f8ff;border: 1px dotted black;border-radius: 0.25em;box-sizing: border-box;margin-bottom: 0.5em;}#sk-container-id-6 div.sk-estimator:hover {background-color: #d4ebff;}#sk-container-id-6 div.sk-parallel-item::after {content: \"\";width: 100%;border-bottom: 1px solid gray;flex-grow: 1;}#sk-container-id-6 div.sk-label:hover label.sk-toggleable__label {background-color: #d4ebff;}#sk-container-id-6 div.sk-serial::before {content: \"\";position: absolute;border-left: 1px solid gray;box-sizing: border-box;top: 0;bottom: 0;left: 50%;z-index: 0;}#sk-container-id-6 div.sk-serial {display: flex;flex-direction: column;align-items: center;background-color: white;padding-right: 0.2em;padding-left: 0.2em;position: relative;}#sk-container-id-6 div.sk-item {position: relative;z-index: 1;}#sk-container-id-6 div.sk-parallel {display: flex;align-items: stretch;justify-content: center;background-color: white;position: relative;}#sk-container-id-6 div.sk-item::before, #sk-container-id-6 div.sk-parallel-item::before {content: \"\";position: absolute;border-left: 1px solid gray;box-sizing: border-box;top: 0;bottom: 0;left: 50%;z-index: -1;}#sk-container-id-6 div.sk-parallel-item {display: flex;flex-direction: column;z-index: 1;position: relative;background-color: white;}#sk-container-id-6 div.sk-parallel-item:first-child::after {align-self: flex-end;width: 50%;}#sk-container-id-6 div.sk-parallel-item:last-child::after {align-self: flex-start;width: 50%;}#sk-container-id-6 div.sk-parallel-item:only-child::after {width: 0;}#sk-container-id-6 div.sk-dashed-wrapped {border: 1px dashed gray;margin: 0 0.4em 0.5em 0.4em;box-sizing: border-box;padding-bottom: 0.4em;background-color: white;}#sk-container-id-6 div.sk-label label {font-family: monospace;font-weight: bold;display: inline-block;line-height: 1.2em;}#sk-container-id-6 div.sk-label-container {text-align: center;}#sk-container-id-6 div.sk-container {/* jupyter's `normalize.less` sets `[hidden] { display: none; }` but bootstrap.min.css set `[hidden] { display: none !important; }` so we also need the `!important` here to be able to override the default hidden behavior on the sphinx rendered scikit-learn.org. See: https://github.com/scikit-learn/scikit-learn/issues/21755 */display: inline-block !important;position: relative;}#sk-container-id-6 div.sk-text-repr-fallback {display: none;}</style><div id=\"sk-container-id-6\" class=\"sk-top-container\"><div class=\"sk-text-repr-fallback\"><pre>RandomForestClassifier()</pre><b>In a Jupyter environment, please rerun this cell to show the HTML representation or trust the notebook. <br />On GitHub, the HTML representation is unable to render, please try loading this page with nbviewer.org.</b></div><div class=\"sk-container\" hidden><div class=\"sk-item\"><div class=\"sk-estimator sk-toggleable\"><input class=\"sk-toggleable__control sk-hidden--visually\" id=\"sk-estimator-id-6\" type=\"checkbox\" checked><label for=\"sk-estimator-id-6\" class=\"sk-toggleable__label sk-toggleable__label-arrow\">RandomForestClassifier</label><div class=\"sk-toggleable__content\"><pre>RandomForestClassifier()</pre></div></div></div></div></div>"
            ],
            "text/plain": [
              "RandomForestClassifier()"
            ]
          },
          "execution_count": 46,
          "metadata": {},
          "output_type": "execute_result"
        }
      ],
      "source": [
        "from sklearn.ensemble import RandomForestClassifier\n",
        "from sklearn.model_selection import train_test_split\n",
        "# Create an instance of the RandomForestClassifier model\n",
        "rf = RandomForestClassifier()\n",
        "\n",
        "# Fit the model to the training data\n",
        "rf.fit(X_train, y_train)"
      ]
    },
    {
      "cell_type": "code",
      "execution_count": null,
      "metadata": {
        "colab": {
          "base_uri": "https://localhost:8080/"
        },
        "id": "NPMsALmT6cgT",
        "outputId": "284ee87c-c843-4aaf-ab63-500198e2424b"
      },
      "outputs": [
        {
          "name": "stdout",
          "output_type": "stream",
          "text": [
            "Accuracy: 0.9419102587972444\n"
          ]
        }
      ],
      "source": [
        "accuracy = rf.score(X_test, y_test)\n",
        "print(\"Accuracy:\", accuracy)"
      ]
    }
  ],
  "metadata": {
    "colab": {
      "provenance": [],
      "include_colab_link": true
    },
    "kernelspec": {
      "display_name": "Python 3",
      "name": "python3"
    },
    "language_info": {
      "name": "python"
    }
  },
  "nbformat": 4,
  "nbformat_minor": 0
}